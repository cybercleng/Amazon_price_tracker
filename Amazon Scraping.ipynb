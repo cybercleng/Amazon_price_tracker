{
 "cells": [
  {
   "cell_type": "markdown",
   "id": "538077a0",
   "metadata": {},
   "source": [
    "### Importing Libraries"
   ]
  },
  {
   "cell_type": "code",
   "execution_count": 27,
   "id": "da13ae70",
   "metadata": {},
   "outputs": [],
   "source": [
    "import pandas as pd\n",
    "import numpy as np\n",
    "import matplotlib.pyplot as plt\n",
    "import seaborn as sns\n",
    "%matplotlib inline\n",
    "import re\n",
    "from datetime import datetime\n",
    "import matplotlib.dates as mdates\n",
    "import matplotlib.ticker as ticker\n",
    "from urllib.request import urlopen\n",
    "from bs4 import BeautifulSoup\n",
    "import requests\n",
    "import smtplib\n",
    "import time\n",
    "import requests as rq"
   ]
  },
  {
   "cell_type": "markdown",
   "id": "cdfbc445",
   "metadata": {},
   "source": [
    "### Loading webpage"
   ]
  },
  {
   "cell_type": "code",
   "execution_count": 54,
   "id": "166d39cd",
   "metadata": {},
   "outputs": [],
   "source": [
    "site = \"https://www.amazon.co.uk/Fundamentals-Data-Engineering-Robust-Systems/dp/1098108302/ref=sr_1_1?keywords=fundamentals+of+data+engineering&qid=1660142751&sprefix=fundament%2Caps%2C62&sr=8-1\"\n",
    "\n",
    "header = {'User-Agent': 'Mozilla/5.0 (X11; Linux x86_64) AppleWebKit/537.36 (KHTML, like Gecko) Chrome/44.0.2403.157 Safari/537.36'}\n",
    "\n",
    "def get_price():\n",
    "    html = rq.get(site, headers=header).text\n",
    "    soup = BeautifulSoup(html, 'html.parser')\n",
    "    price = [i.get_text() for i in\n",
    "             soup.find_all('span', {'class': 'a-size-medium a-color-price priceBlockBuyingPriceString'})]\n",
    "\n",
    "    final_price = ''.join(price)[2:8]\n",
    "    final_price = int(final_price.replace(',', ''))\n",
    "\n",
    "    if final_price >= 41:\n",
    "        send_email()\n",
    "        \n",
    "def send_email():\n",
    "    server = smtplib.SMTP('smtp.gmail.com', 587)\n",
    "    server.ehlo()\n",
    "    server.starttls()\n",
    "    server.ehlo()\n",
    "\n",
    "    server.login('yebomnt@gmail.com', 'ghadxkrtrpgkpdbk')\n",
    "\n",
    "    subject = \"Price fell down\"\n",
    "    body = \"Check this link: https://www.amazon.co.uk/Fundamentals-Data-Engineering-Robust-Systems/dp/1098108302/ref=sr_1_1?keywords=fundamentals+of+data+engineering&qid=1660142751&sprefix=fundament%2Caps%2C62&sr=8-1\"\n",
    "    msg = f\"Subject:{subject}\\n\\n{body}\"\n",
    "\n",
    "    server.sendmail('yebomnt@gmail.com', 'dubematshiliso@outlook.com', msg)\n",
    "\n",
    "    print(\"Hey, email has been sent!\")\n",
    "    server.quit()\n",
    "    \n",
    "    while True:\n",
    "        get_price()\n",
    "        time.sleep(60)\n"
   ]
  },
  {
   "cell_type": "code",
   "execution_count": 58,
   "id": "b94f3132",
   "metadata": {},
   "outputs": [
    {
     "ename": "ValueError",
     "evalue": "invalid literal for int() with base 10: ''",
     "output_type": "error",
     "traceback": [
      "\u001b[0;31m---------------------------------------------------------------------------\u001b[0m",
      "\u001b[0;31mValueError\u001b[0m                                Traceback (most recent call last)",
      "Input \u001b[0;32mIn [58]\u001b[0m, in \u001b[0;36m<cell line: 1>\u001b[0;34m()\u001b[0m\n\u001b[0;32m----> 1\u001b[0m \u001b[38;5;28mprint\u001b[39m(\u001b[43mget_price\u001b[49m\u001b[43m(\u001b[49m\u001b[43m)\u001b[49m)\n",
      "Input \u001b[0;32mIn [54]\u001b[0m, in \u001b[0;36mget_price\u001b[0;34m()\u001b[0m\n\u001b[1;32m      8\u001b[0m price \u001b[38;5;241m=\u001b[39m [i\u001b[38;5;241m.\u001b[39mget_text() \u001b[38;5;28;01mfor\u001b[39;00m i \u001b[38;5;129;01min\u001b[39;00m\n\u001b[1;32m      9\u001b[0m          soup\u001b[38;5;241m.\u001b[39mfind_all(\u001b[38;5;124m'\u001b[39m\u001b[38;5;124mspan\u001b[39m\u001b[38;5;124m'\u001b[39m, {\u001b[38;5;124m'\u001b[39m\u001b[38;5;124mclass\u001b[39m\u001b[38;5;124m'\u001b[39m: \u001b[38;5;124m'\u001b[39m\u001b[38;5;124ma-size-medium a-color-price priceBlockBuyingPriceString\u001b[39m\u001b[38;5;124m'\u001b[39m})]\n\u001b[1;32m     11\u001b[0m final_price \u001b[38;5;241m=\u001b[39m \u001b[38;5;124m'\u001b[39m\u001b[38;5;124m'\u001b[39m\u001b[38;5;241m.\u001b[39mjoin(price)[\u001b[38;5;241m2\u001b[39m:\u001b[38;5;241m8\u001b[39m]\n\u001b[0;32m---> 12\u001b[0m final_price \u001b[38;5;241m=\u001b[39m \u001b[38;5;28;43mint\u001b[39;49m\u001b[43m(\u001b[49m\u001b[43mfinal_price\u001b[49m\u001b[38;5;241;43m.\u001b[39;49m\u001b[43mreplace\u001b[49m\u001b[43m(\u001b[49m\u001b[38;5;124;43m'\u001b[39;49m\u001b[38;5;124;43m,\u001b[39;49m\u001b[38;5;124;43m'\u001b[39;49m\u001b[43m,\u001b[49m\u001b[43m \u001b[49m\u001b[38;5;124;43m'\u001b[39;49m\u001b[38;5;124;43m'\u001b[39;49m\u001b[43m)\u001b[49m\u001b[43m)\u001b[49m\n\u001b[1;32m     14\u001b[0m \u001b[38;5;28;01mif\u001b[39;00m final_price \u001b[38;5;241m>\u001b[39m\u001b[38;5;241m=\u001b[39m \u001b[38;5;241m41\u001b[39m:\n\u001b[1;32m     15\u001b[0m     send_email()\n",
      "\u001b[0;31mValueError\u001b[0m: invalid literal for int() with base 10: ''"
     ]
    }
   ],
   "source": [
    "print(get_price())"
   ]
  },
  {
   "cell_type": "code",
   "execution_count": null,
   "id": "eca05f63",
   "metadata": {},
   "outputs": [],
   "source": []
  }
 ],
 "metadata": {
  "kernelspec": {
   "display_name": "Python 3 (ipykernel)",
   "language": "python",
   "name": "python3"
  },
  "language_info": {
   "codemirror_mode": {
    "name": "ipython",
    "version": 3
   },
   "file_extension": ".py",
   "mimetype": "text/x-python",
   "name": "python",
   "nbconvert_exporter": "python",
   "pygments_lexer": "ipython3",
   "version": "3.9.12"
  }
 },
 "nbformat": 4,
 "nbformat_minor": 5
}
